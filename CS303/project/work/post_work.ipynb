{
 "cells": [
  {
   "cell_type": "code",
   "execution_count": null,
   "outputs": [],
   "source": [
    "import tensorflow as tf\n",
    "from tensorflow.python.framework import graph_util"
   ],
   "metadata": {
    "collapsed": false,
    "pycharm": {
     "name": "#%%\n"
    }
   }
  },
  {
   "cell_type": "code",
   "execution_count": 3,
   "metadata": {
    "collapsed": true,
    "pycharm": {
     "is_executing": false
    }
   },
   "outputs": [
    {
     "name": "stdout",
     "text": [
      "INFO:tensorflow:Restoring parameters from model/model.ckpt\n",
      "INFO:tensorflow:Froze 248 variables.\n",
      "INFO:tensorflow:Converted 248 variables to const ops.\n"
     ],
     "output_type": "stream"
    }
   ],
   "source": [
    "input_checkpoint = \"model/model.ckpt\"\n",
    "output_graph = \"./model.pb\""
   ]
  },
  {
   "cell_type": "code",
   "execution_count": null,
   "outputs": [],
   "source": [
    "output_node_names = \"fky_input,fky_output,model_1/dense_layer_1/LogSoftmax,model_1/flatten_layer_3/Tanh\"\n",
    "saver = tf.train.import_meta_graph(\n",
    "    input_checkpoint + '.meta', clear_devices=True)\n",
    "graph = tf.get_default_graph()  # 获得默认的图\n",
    "input_graph_def = graph.as_graph_def()  # 返回一个序列化的图代表当前的图\n",
    "with tf.Session() as sess:\n",
    "    saver.restore(sess, input_checkpoint)  # 恢复图并得到数据\n",
    "    output_graph_def = graph_util.convert_variables_to_constants(  # 模型持久化，将变量值固定\n",
    "        sess=sess,\n",
    "        input_graph_def=input_graph_def,  # 等于:sess.graph_def\n",
    "        output_node_names=output_node_names.split(\",\")\n",
    "    )\n",
    "\n",
    "    with tf.gfile.GFile(output_graph, \"wb\") as f:  # 保存模型\n",
    "        f.write(output_graph_def.SerializeToString())  \n",
    "        \n",
    "    # print(\"%d ops in the final graph.\" %\n",
    "    #       len(output_graph_def.node))  # 得到当前图有几个操作节点\n",
    "    # for op in graph.get_operations():\n",
    "    #     print(op.name, op.values())"
   ],
   "metadata": {
    "collapsed": false,
    "pycharm": {
     "name": "#%%\n"
    }
   }
  },
  {
   "cell_type": "code",
   "execution_count": 1,
   "outputs": [],
   "source": [
    "class Agent():\n",
    "    def __init__(self, pb_path):\n",
    "        with tf.Graph().as_default():\n",
    "            output_graph_def = tf.GraphDef()\n",
    "            with open(pb_path, \"rb\") as f:\n",
    "                output_graph_def.ParseFromString(f.read())\n",
    "                tf.import_graph_def(output_graph_def, name=\"\")\n",
    "            self.sess = tf.Session()\n",
    "\n",
    "            self.sess.run(tf.global_variables_initializer())\n",
    "            self.action_fc = self.sess.graph.get_tensor_by_name(\n",
    "                \"model_1/dense_layer_1/LogSoftmax:0\")\n",
    "            self.evaluation_fc2 = self.sess.graph.get_tensor_by_name(\n",
    "                \"model_1/flatten_layer_3/Tanh:0\")\n",
    "            self._input = self.sess.graph.get_tensor_by_name(\"fky_input:0\")\n",
    "\n",
    "    def calculate(self, state_batch):\n",
    "        with tf.Graph().as_default():\n",
    "            out, b = self.sess.run([self.action_fc, self.evaluation_fc2], feed_dict={self._input: state_batch})\n",
    "            return out, b\n",
    "\n"
   ],
   "metadata": {
    "collapsed": false,
    "pycharm": {
     "name": "#%%\n",
     "is_executing": false
    }
   }
  }
 ],
 "metadata": {
  "kernelspec": {
   "display_name": "Python 3",
   "language": "python",
   "name": "python3"
  },
  "language_info": {
   "codemirror_mode": {
    "name": "ipython",
    "version": 2
   },
   "file_extension": ".py",
   "mimetype": "text/x-python",
   "name": "python",
   "nbconvert_exporter": "python",
   "pygments_lexer": "ipython2",
   "version": "2.7.6"
  },
  "pycharm": {
   "stem_cell": {
    "cell_type": "raw",
    "source": [],
    "metadata": {
     "collapsed": false
    }
   }
  }
 },
 "nbformat": 4,
 "nbformat_minor": 0
}